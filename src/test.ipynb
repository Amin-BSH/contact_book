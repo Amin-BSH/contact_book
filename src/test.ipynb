{
 "cells": [
  {
   "cell_type": "code",
   "execution_count": 2,
   "metadata": {},
   "outputs": [],
   "source": [
    "# class ContactBook\n",
    "# name, email, phone, address\n",
    "# def add_contact (name, email, phone, address) -> set a condition for those contacts that have the same names\n",
    "# def delete_contact (name)\n",
    "# def edit_contact (name, email, phone, address)\n",
    "# def view_contacts ()\n",
    "# def view_contacts (name)"
   ]
  },
  {
   "cell_type": "code",
   "execution_count": 5,
   "metadata": {},
   "outputs": [],
   "source": [
    "from typing import Dict\n",
    "class ContactBook:\n",
    "    def __init__(self) -> None:\n",
    "        self.contacts_dict:Dict = {}\n",
    "\n",
    "    def add_contact(self, name:str, email:str, phone:str, address:str) -> None:\n",
    "        if name not in self.contacts_dict:\n",
    "            self.contacts_dict[name] = {\"email\":email, \"phone\":phone, \"address\":address}\n",
    "            print(\"Contact has been created successfully\")\n",
    "        else:\n",
    "            print(\"A contact is already exist with this name.\\nTry another name\")\n",
    "\n",
    "    def delete_contact(self,name:str) -> None:\n",
    "        if name in self.contacts_dict:\n",
    "            del self.contacts_dict[name]\n",
    "        else:\n",
    "            print(\"Contact not found\")\n",
    "\n",
    "    def edit_contact(self, name:str, email:str, phone:str, address:str) -> None:\n",
    "        if name in self.contacts_dict:\n",
    "            if email:\n",
    "                self.contacts_dict[name][\"email\"] = email\n",
    "            if phone:\n",
    "                self.contacts_dict[name][\"phone\"] = phone\n",
    "            if address:\n",
    "                self.contacts_dict[name][\"address\"] = address\n",
    "\n",
    "    def view_contacts(self):\n",
    "        if self.contacts_dict:\n",
    "            for (key, value) in self.contacts_dict.items():\n",
    "                print(\"-\"*20)\n",
    "                print(f\"Name: {key}\\nEmail: {value[\"email\"]}\\nPhone: {value[\"phone\"]}\\nAddress: {value[\"address\"]}\")\n",
    "        else:\n",
    "            print(\"There is no contact\")\n",
    "\n",
    "    def view_contact(self,name:str) -> None:\n",
    "        if name in self.contacts_dict:\n",
    "            print(\"-\"*20)\n",
    "            print(f\"Name: {name}\\nEmail: {self.contacts_dict[name][\"email\"]}\\nPhone: {self.contacts_dict[name][\"phone\"]}\\nAddress: {self.contacts_dict[name][\"address\"]}\")\n",
    "            print(\"-\"*20)\n",
    "        else:\n",
    "            print(\"Contact not found\")\n"
   ]
  },
  {
   "cell_type": "code",
   "execution_count": 8,
   "metadata": {},
   "outputs": [
    {
     "name": "stdout",
     "output_type": "stream",
     "text": [
      "Contact has been created successfully\n",
      "Contact has been created successfully\n",
      "--------------------\n",
      "Name: Amin\n",
      "Email: gmail.com\n",
      "Phone: 000\n",
      "Address: Lorestan\n",
      "--------------------\n",
      "Name: Amir\n",
      "Email: amin@gmail.com\n",
      "Phone: 09163971234\n",
      "Address: Lorestan\n"
     ]
    }
   ],
   "source": [
    "contact = ContactBook()\n",
    "contact.add_contact(\"Amin\",\"amin@gmail.com\",\"09163971234\",\"Lorestan\")\n",
    "contact.add_contact(\"Amir\",\"amin@gmail.com\",\"09163971234\",\"Lorestan\")\n",
    "contact.edit_contact(\"Amin\",\"gmail.com\",\"000\",\"Lorestan\")\n",
    "contact.view_contacts()"
   ]
  },
  {
   "cell_type": "code",
   "execution_count": 2,
   "metadata": {},
   "outputs": [
    {
     "name": "stdout",
     "output_type": "stream",
     "text": [
      "{'Amin': {'email': 'newemail', 'address': 'lorestan'}}\n"
     ]
    }
   ],
   "source": [
    "dic = {\"Amin\":{\"email\":\"amin@gmail.com\",\"address\":\"lorestan\"}}\n",
    "dic[\"Amin\"][\"email\"] = \"newemail\"\n",
    "print(dic)"
   ]
  },
  {
   "cell_type": "code",
   "execution_count": 1,
   "metadata": {},
   "outputs": [
    {
     "name": "stdout",
     "output_type": "stream",
     "text": [
      "Enter 1 for adding a contact.\n",
      "Enter 2 for deleting a contact.\n",
      "Enter 3 for editing a contact.\n",
      "Enter 4 for see a contact.\n",
      "Enter 5 for see all contacts.\n",
      "Enter 6 for exiting the game.\n"
     ]
    },
    {
     "ename": "ValueError",
     "evalue": "invalid literal for int() with base 10: ''",
     "output_type": "error",
     "traceback": [
      "\u001b[0;31m---------------------------------------------------------------------------\u001b[0m",
      "\u001b[0;31mValueError\u001b[0m                                Traceback (most recent call last)",
      "Cell \u001b[0;32mIn[1], line 54\u001b[0m\n\u001b[1;32m     52\u001b[0m \u001b[38;5;28mprint\u001b[39m(\u001b[38;5;124m\"\u001b[39m\u001b[38;5;124mEnter 5 for see all contacts.\u001b[39m\u001b[38;5;124m\"\u001b[39m)\n\u001b[1;32m     53\u001b[0m \u001b[38;5;28mprint\u001b[39m(\u001b[38;5;124m\"\u001b[39m\u001b[38;5;124mEnter 6 for exiting the game.\u001b[39m\u001b[38;5;124m\"\u001b[39m)\n\u001b[0;32m---> 54\u001b[0m contact_choice \u001b[38;5;241m=\u001b[39m \u001b[38;5;28;43mint\u001b[39;49m\u001b[43m(\u001b[49m\u001b[38;5;28;43minput\u001b[39;49m\u001b[43m(\u001b[49m\u001b[38;5;124;43m\"\u001b[39;49m\u001b[38;5;124;43mEnter your input: \u001b[39;49m\u001b[38;5;124;43m\"\u001b[39;49m\u001b[43m)\u001b[49m\u001b[43m)\u001b[49m\n\u001b[1;32m     56\u001b[0m \u001b[38;5;28;01mif\u001b[39;00m contact_choice \u001b[38;5;241m==\u001b[39m \u001b[38;5;241m1\u001b[39m:\n\u001b[1;32m     57\u001b[0m     name \u001b[38;5;241m=\u001b[39m \u001b[38;5;28minput\u001b[39m(\u001b[38;5;124m\"\u001b[39m\u001b[38;5;124mEnter a name: \u001b[39m\u001b[38;5;124m\"\u001b[39m)\n",
      "\u001b[0;31mValueError\u001b[0m: invalid literal for int() with base 10: ''"
     ]
    }
   ],
   "source": [
    "from typing import Dict\n",
    "class ContactBook:\n",
    "    def __init__(self) -> None:\n",
    "        self.contacts_dict:Dict = {}\n",
    "\n",
    "    def add_contact(self, name:str, email:str, phone:str, address:str) -> None:\n",
    "        if name not in self.contacts_dict:\n",
    "            self.contacts_dict[name] = {\"email\":email, \"phone\":phone, \"address\":address}\n",
    "            print(\"Contact has been created successfully\")\n",
    "        else:\n",
    "            print(\"A contact is already exist with this name.\\nTry another name\")\n",
    "\n",
    "    def delete_contact(self,name:str) -> None:\n",
    "        if name in self.contacts_dict:\n",
    "            del self.contacts_dict[name]\n",
    "        else:\n",
    "            print(\"Contact not found\")\n",
    "\n",
    "    def edit_contact(self, name:str, email:str, phone:str, address:str) -> None:\n",
    "        if name in self.contacts_dict:\n",
    "            if email:\n",
    "                self.contacts_dict[name][\"email\"] = email\n",
    "            if phone:\n",
    "                self.contacts_dict[name][\"phone\"] = phone\n",
    "            if address:\n",
    "                self.contacts_dict[name][\"address\"] = address\n",
    "        else:\n",
    "            print(\"Contact not found\")\n",
    "\n",
    "    def view_contacts(self):\n",
    "        if self.contacts_dict:\n",
    "            for (key, value) in self.contacts_dict.items():\n",
    "                print(\"-\"*20)\n",
    "                print(f\"Name: {key}\\nEmail: {value[\"email\"]}\\nPhone: {value[\"phone\"]}\\nAddress: {value[\"address\"]}\")\n",
    "        else:\n",
    "            print(\"There is no contact\")\n",
    "\n",
    "    def view_contact(self, name:str) -> None:\n",
    "        if name in self.contacts_dict:\n",
    "            print(\"-\"*20)\n",
    "            print(f\"Name: {name}\\nEmail: {self.contacts_dict[name][\"email\"]}\\nPhone: {self.contacts_dict[name][\"phone\"]}\\nAddress: {self.contacts_dict[name][\"address\"]}\")\n",
    "            print(\"-\"*20)\n",
    "        else:\n",
    "            print(\"Contact not found\")\n",
    "\n",
    "while True:\n",
    "    contact = ContactBook()\n",
    "    print(\"Enter 1 for adding a contact.\")\n",
    "    print(\"Enter 2 for deleting a contact.\")\n",
    "    print(\"Enter 3 for editing a contact.\")\n",
    "    print(\"Enter 4 for see a contact.\")\n",
    "    print(\"Enter 5 for see all contacts.\")\n",
    "    print(\"Enter 6 for exiting the game.\")\n",
    "    contact_choice = int(input(\"Enter your input: \"))\n",
    "\n",
    "    if contact_choice == 1:\n",
    "        name = input(\"Enter a name: \")\n",
    "        email = input(\"Enter an email: \")\n",
    "        phone = input(\"Enter a phone number: \")\n",
    "        address = input(\"Enter an address: \")\n",
    "        contact.add_contact(name=name, email=email, phone=phone, address=address)\n",
    "    elif contact_choice == 2:\n",
    "        pass\n",
    "    elif contact_choice == 3:\n",
    "        pass\n",
    "    elif contact_choice == 4:\n",
    "        pass\n",
    "    elif contact_choice == 5:\n",
    "        contact.view_contacts()\n",
    "    elif contact_choice == 6:\n",
    "        print(\"You have exited successfully\")\n",
    "        break\n",
    "    else:\n",
    "        pass\n"
   ]
  },
  {
   "cell_type": "code",
   "execution_count": 4,
   "metadata": {},
   "outputs": [
    {
     "name": "stdout",
     "output_type": "stream",
     "text": [
      "+-------------+------------------+-------+---------------+\n",
      "|     Name    |      Email       | Phone |    Address    |\n",
      "+-------------+------------------+-------+---------------+\n",
      "| ['William'] |   egego@ze.sg    |   37  |     Uganda    |\n",
      "| ['Cecelia'] | fu@lolrottag.pm  |   39  | Åland Islands |\n",
      "| ['Clayton'] |   zaen@hib.ls    |   18  |      Laos     |\n",
      "|   ['Inez']  | juva@behtuva.hk  |   51  |     Kuwait    |\n",
      "|  ['Jeremy'] |   retma@fat.pn   |   67  |    Slovenia   |\n",
      "|  ['Esther'] | tipec@betudo.mk  |   53  |    Bulgaria   |\n",
      "|   ['Elva']  | fujuf@kinijus.by |   3   |    Algeria    |\n",
      "|   ['Ora']   |    uha@ma.us     |   8   |  Vatican City |\n",
      "|   ['Myra']  |   kizhur@ha.bf   |   12  |    Iceland    |\n",
      "|  ['Andre']  |   ibe@luwot.tj   |   82  |   Swaziland   |\n",
      "+-------------+------------------+-------+---------------+\n"
     ]
    }
   ],
   "source": [
    "from prettytable import PrettyTable\n",
    "\n",
    "\n",
    "\n",
    "table = PrettyTable()\n",
    "\n",
    "datas = {\n",
    "    \"William\":{'email':\"egego@ze.sg\",\"phone\":\"37\",\"address\":\"Uganda\"},\n",
    "    \"Cecelia\":{'email':\"fu@lolrottag.pm\",\"phone\":\"39\",\"address\":\"Åland Islands\"},\n",
    "    \"Clayton\":{'email':\"zaen@hib.ls\",\"phone\":\"18\",\"address\":\"Laos\"},\n",
    "    \"Inez\":{'email':\"juva@behtuva.hk\",\"phone\":\"51\",\"address\":\"Kuwait\"},\n",
    "    \"Jeremy\":{'email':\"retma@fat.pn\",\"phone\":\"67\",\"address\":\"Slovenia\"},\n",
    "    \"Esther\":{'email':\"tipec@betudo.mk\",\"phone\":\"53\",\"address\":\"Bulgaria\"},\n",
    "    \"Elva\":{'email':\"fujuf@kinijus.by\",\"phone\":\"3\",\"address\":\"Algeria\"},\n",
    "    \"Ora\":{'email':\"uha@ma.us\",\"phone\":\"8\",\"address\":\"Vatican City\"},\n",
    "    \"Myra\":{'email':\"kizhur@ha.bf\",\"phone\":\"12\",\"address\":\"Iceland\"},\n",
    "    \"Andre\":{'email':\"ibe@luwot.tj\",\"phone\":\"82\",\"address\":\"Swaziland\"},\n",
    "         }\n",
    "\n",
    "table.field_names = [\"Name\",\"Email\",\"Phone\",\"Address\"]\n",
    "for (key,value) in datas.items():\n",
    "    table.add_row([[key],value[\"email\"],value[\"phone\"],value[\"address\"]])\n",
    "\n",
    "print(table)\n"
   ]
  }
 ],
 "metadata": {
  "kernelspec": {
   "display_name": "contact_book_env",
   "language": "python",
   "name": "python3"
  },
  "language_info": {
   "codemirror_mode": {
    "name": "ipython",
    "version": 3
   },
   "file_extension": ".py",
   "mimetype": "text/x-python",
   "name": "python",
   "nbconvert_exporter": "python",
   "pygments_lexer": "ipython3",
   "version": "3.12.5"
  }
 },
 "nbformat": 4,
 "nbformat_minor": 2
}
